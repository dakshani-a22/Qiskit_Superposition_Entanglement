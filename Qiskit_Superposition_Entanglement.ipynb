{
  "cells": [
    {
      "cell_type": "markdown",
      "metadata": {
        "id": "X2W5OpxSv-y2"
      },
      "source": [
        "# Superposition and Entanglement in Qiskit\n",
        "This notebook demonstrates:\n",
        "1. **Superposition** using a single qubit.\n",
        "2. **Entanglement** using two qubits.\n",
        "We will use Qiskit to create circuits, visualize the states, and measure outcomes."
      ],
      "id": "X2W5OpxSv-y2"
    },
    {
      "cell_type": "code",
      "metadata": {
        "id": "NOQIWRacv-y3",
        "colab": {
          "base_uri": "https://localhost:8080/"
        },
        "outputId": "a411ec1b-524b-473b-aadb-f7f9702c7a1c"
      },
      "source": [
        "# ===========================\n",
        "# Install Qiskit, Aer and pylatexenc\n",
        "# ===========================\n",
        "!pip install qiskit --quiet\n",
        "!pip install qiskit-aer --quiet\n",
        "\n"
      ],
      "execution_count": 1,
      "outputs": [
        {
          "output_type": "stream",
          "name": "stdout",
          "text": [
            "\u001b[2K   \u001b[90m━━━━━━━━━━━━━━━━━━━━━━━━━━━━━━━━━━━━━━━━\u001b[0m \u001b[32m8.0/8.0 MB\u001b[0m \u001b[31m67.1 MB/s\u001b[0m eta \u001b[36m0:00:00\u001b[0m\n",
            "\u001b[2K   \u001b[90m━━━━━━━━━━━━━━━━━━━━━━━━━━━━━━━━━━━━━━━━\u001b[0m \u001b[32m2.2/2.2 MB\u001b[0m \u001b[31m38.9 MB/s\u001b[0m eta \u001b[36m0:00:00\u001b[0m\n",
            "\u001b[2K   \u001b[90m━━━━━━━━━━━━━━━━━━━━━━━━━━━━━━━━━━━━━━━━\u001b[0m \u001b[32m49.5/49.5 kB\u001b[0m \u001b[31m2.3 MB/s\u001b[0m eta \u001b[36m0:00:00\u001b[0m\n",
            "\u001b[2K   \u001b[90m━━━━━━━━━━━━━━━━━━━━━━━━━━━━━━━━━━━━━━━━\u001b[0m \u001b[32m12.4/12.4 MB\u001b[0m \u001b[31m111.1 MB/s\u001b[0m eta \u001b[36m0:00:00\u001b[0m\n",
            "\u001b[?25h"
          ]
        }
      ],
      "id": "NOQIWRacv-y3"
    },
    {
      "cell_type": "code",
      "metadata": {
        "id": "4vIIe5A0v-y4"
      },
      "source": [
        "# ===========================\n",
        "# Import Libraries\n",
        "# ===========================\n",
        "from qiskit import QuantumCircuit\n",
        "from qiskit_aer import AerSimulator\n",
        "from qiskit.visualization import plot_histogram, plot_bloch_multivector\n",
        "from qiskit.quantum_info import Statevector\n",
        "import matplotlib.pyplot as plt\n"
      ],
      "execution_count": 2,
      "outputs": [],
      "id": "4vIIe5A0v-y4"
    },
    {
      "cell_type": "markdown",
      "metadata": {
        "id": "B_QEU5O6v-y4"
      },
      "source": [
        "## 1. Superposition Example"
      ],
      "id": "B_QEU5O6v-y4"
    },
    {
      "cell_type": "code",
      "metadata": {
        "id": "mPhcfNBxv-y5",
        "colab": {
          "base_uri": "https://localhost:8080/"
        },
        "outputId": "f603462d-43b7-4afb-dc3b-09b2827276a5"
      },
      "source": [
        "# ===========================\n",
        "# Superposition Example\n",
        "# ===========================\n",
        "# Create 1-qubit circuit\n",
        "qc_super = QuantumCircuit(1)\n",
        "\n",
        "# Apply Hadamard gate to create superposition\n",
        "qc_super.h(0)\n",
        "\n",
        "# Draw the circuit\n",
        "qc_super.draw('text')\n",
        "\n",
        "# Get statevector\n",
        "state_super = Statevector.from_instruction(qc_super)\n",
        "plot_bloch_multivector(state_super)\n",
        "plt.show()\n",
        "\n",
        "# Measure and simulate\n",
        "qc_super.measure_all()\n",
        "simulator = AerSimulator()\n",
        "job_super = simulator.run(qc_super, shots=1024)\n",
        "result_super = job_super.result()\n",
        "counts_super = result_super.get_counts()\n",
        "print(\"Superposition Measurement Counts:\", counts_super)\n",
        "plot_histogram(counts_super)\n",
        "plt.show()"
      ],
      "execution_count": 3,
      "outputs": [
        {
          "output_type": "stream",
          "name": "stdout",
          "text": [
            "Superposition Measurement Counts: {'0': 504, '1': 520}\n"
          ]
        }
      ],
      "id": "mPhcfNBxv-y5"
    },
    {
      "cell_type": "markdown",
      "metadata": {
        "id": "PWL3wDZWv-y6"
      },
      "source": [
        "## 2. Entanglement Example"
      ],
      "id": "PWL3wDZWv-y6"
    },
    {
      "cell_type": "code",
      "metadata": {
        "id": "dj2F4Yswv-y6",
        "colab": {
          "base_uri": "https://localhost:8080/"
        },
        "outputId": "c413e48a-4153-494a-9446-989491306c70"
      },
      "source": [
        "# ===========================\n",
        "# Entanglement Example\n",
        "# ===========================\n",
        "# Create 2-qubit circuit\n",
        "qc_ent = QuantumCircuit(2)\n",
        "\n",
        "# Apply Hadamard on qubit 0\n",
        "qc_ent.h(0)\n",
        "\n",
        "# Apply CNOT to entangle qubit 0 and 1\n",
        "qc_ent.cx(0, 1)\n",
        "\n",
        "# Draw the circuit\n",
        "qc_ent.draw('text')\n",
        "\n",
        "# Get statevector\n",
        "state_ent = Statevector.from_instruction(qc_ent)\n",
        "print(\"Entangled Statevector:\", state_ent)\n",
        "plot_bloch_multivector(state_ent)\n",
        "plt.show()\n",
        "\n",
        "# Measure and simulate\n",
        "qc_ent.measure_all()\n",
        "job_ent = simulator.run(qc_ent, shots=1024)\n",
        "result_ent = job_ent.result()\n",
        "counts_ent = result_ent.get_counts()\n",
        "print(\"Entanglement Measurement Counts:\", counts_ent)\n",
        "plot_histogram(counts_ent)\n",
        "plt.show()"
      ],
      "execution_count": 4,
      "outputs": [
        {
          "output_type": "stream",
          "name": "stdout",
          "text": [
            "Entangled Statevector: Statevector([0.70710678+0.j, 0.        +0.j, 0.        +0.j,\n",
            "             0.70710678+0.j],\n",
            "            dims=(2, 2))\n",
            "Entanglement Measurement Counts: {'00': 473, '11': 551}\n"
          ]
        }
      ],
      "id": "dj2F4Yswv-y6"
    },
    {
      "cell_type": "code",
      "source": [
        "# ===========================\n",
        "# Task 1: Superposition\n",
        "# ===========================\n",
        "\n",
        "# Import required libraries\n",
        "from qiskit import QuantumCircuit\n",
        "from qiskit_aer import AerSimulator\n",
        "from qiskit.visualization import plot_histogram, plot_bloch_multivector\n",
        "from qiskit.quantum_info import Statevector\n",
        "import matplotlib.pyplot as plt\n",
        "\n",
        "# Step 1: Create a single-qubit circuit\n",
        "qc_super = QuantumCircuit(1)\n",
        "\n",
        "# Step 2: Apply a Hadamard gate to create superposition\n",
        "qc_super.h(0)\n",
        "\n",
        "# Step 3: Visualize the state on the Bloch sphere\n",
        "state_super = Statevector.from_instruction(qc_super)\n",
        "plot_bloch_multivector(state_super)\n",
        "plt.show()\n",
        "\n",
        "# Step 4: Measure the qubit\n",
        "qc_super.measure_all()\n",
        "\n",
        "# Step 5: Simulate using AerSimulator\n",
        "simulator = AerSimulator()\n",
        "result_super = simulator.run(qc_super, shots=1024).result()\n",
        "counts_super = result_super.get_counts()\n",
        "\n",
        "# Step 6: Display results\n",
        "print(\"Superposition Measurement Counts:\", counts_super)\n",
        "plot_histogram(counts_super)\n",
        "plt.show()\n",
        "\n",
        "# ===========================\n",
        "# Expected Output:\n",
        "# Bloch Sphere → Arrow along X-axis (|+> state)\n",
        "# Histogram → ≈50% '0' and 50% '1'\n",
        "# Example: {'0': 520, '1': 504}\n",
        "# ==========================="
      ],
      "metadata": {
        "colab": {
          "base_uri": "https://localhost:8080/"
        },
        "id": "skBVqLRuSHGS",
        "outputId": "03d54c37-c258-4183-a051-d4f0c051c6c8"
      },
      "id": "skBVqLRuSHGS",
      "execution_count": 5,
      "outputs": [
        {
          "output_type": "stream",
          "name": "stdout",
          "text": [
            "Superposition Measurement Counts: {'1': 511, '0': 513}\n"
          ]
        }
      ]
    },
    {
      "cell_type": "code",
      "source": [
        "# ===========================\n",
        "# Task 2: Entanglement\n",
        "# ===========================\n",
        "\n",
        "# Import libraries (if not already imported)\n",
        "from qiskit import QuantumCircuit\n",
        "from qiskit_aer import AerSimulator\n",
        "from qiskit.visualization import plot_histogram, plot_bloch_multivector\n",
        "from qiskit.quantum_info import Statevector\n",
        "import matplotlib.pyplot as plt\n",
        "\n",
        "# Step 1: Create a 2-qubit circuit\n",
        "qc_ent = QuantumCircuit(2)\n",
        "\n",
        "# Step 2: Apply Hadamard on qubit 0\n",
        "qc_ent.h(0)\n",
        "\n",
        "# Step 3: Apply CNOT gate (control=0, target=1)\n",
        "qc_ent.cx(0, 1)\n",
        "\n",
        "# Step 4: Visualize the entangled state\n",
        "state_ent = Statevector.from_instruction(qc_ent)\n",
        "print(\"Entangled Statevector:\", state_ent)\n",
        "plot_bloch_multivector(state_ent)\n",
        "plt.show()\n",
        "\n",
        "# Step 5: Measure both qubits\n",
        "qc_ent.measure_all()\n",
        "\n",
        "# Step 6: Simulate the circuit\n",
        "simulator = AerSimulator()\n",
        "result_ent = simulator.run(qc_ent, shots=1024).result()\n",
        "counts_ent = result_ent.get_counts()\n",
        "\n",
        "# Step 7: Display results\n",
        "print(\"Entanglement Measurement Counts:\", counts_ent)\n",
        "plot_histogram(counts_ent)\n",
        "plt.show()\n",
        "\n",
        "# ===========================\n",
        "# Expected Output:\n",
        "# Histogram → Only '00' and '11' outcomes\n",
        "# Example: {'00': 508, '11': 516}\n",
        "# Interpretation → Qubits are entangled\n",
        "# ==========================="
      ],
      "metadata": {
        "colab": {
          "base_uri": "https://localhost:8080/"
        },
        "id": "X8kEJDBESLX_",
        "outputId": "edef4094-080c-43a0-b106-b8698f97e8f7"
      },
      "id": "X8kEJDBESLX_",
      "execution_count": 6,
      "outputs": [
        {
          "output_type": "stream",
          "name": "stdout",
          "text": [
            "Entangled Statevector: Statevector([0.70710678+0.j, 0.        +0.j, 0.        +0.j,\n",
            "             0.70710678+0.j],\n",
            "            dims=(2, 2))\n",
            "Entanglement Measurement Counts: {'11': 499, '00': 525}\n"
          ]
        }
      ]
    }
  ],
  "metadata": {
    "kernelspec": {
      "display_name": "Python 3",
      "language": "python",
      "name": "python3"
    },
    "language_info": {
      "name": "python",
      "version": "3.10"
    },
    "colab": {
      "provenance": []
    }
  },
  "nbformat": 4,
  "nbformat_minor": 5
}